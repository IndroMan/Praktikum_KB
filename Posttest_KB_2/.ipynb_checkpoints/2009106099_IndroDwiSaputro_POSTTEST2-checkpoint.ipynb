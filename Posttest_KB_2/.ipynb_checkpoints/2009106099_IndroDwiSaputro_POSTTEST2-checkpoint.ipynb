{
 "cells": [
  {
   "cell_type": "markdown",
   "id": "1fe0a298",
   "metadata": {},
   "source": [
    "<b>Indro Dwi Saputro\n",
    "2009106099\n",
    "INDROMAMEN IS HERE</b>"
   ]
  },
  {
   "cell_type": "code",
   "execution_count": 4,
   "id": "3bc934c9",
   "metadata": {},
   "outputs": [],
   "source": [
    "import pandas as pd"
   ]
  },
  {
   "cell_type": "code",
   "execution_count": 5,
   "id": "7dde7efd",
   "metadata": {},
   "outputs": [],
   "source": [
    "df = pd.read_csv(\"data-item.csv\")"
   ]
  },
  {
   "cell_type": "markdown",
   "id": "57833cd6",
   "metadata": {},
   "source": [
    "<h1> MEMBACA DATASET </h1>"
   ]
  },
  {
   "cell_type": "code",
   "execution_count": 6,
   "id": "60404889",
   "metadata": {},
   "outputs": [
    {
     "data": {
      "text/html": [
       "<div>\n",
       "<style scoped>\n",
       "    .dataframe tbody tr th:only-of-type {\n",
       "        vertical-align: middle;\n",
       "    }\n",
       "\n",
       "    .dataframe tbody tr th {\n",
       "        vertical-align: top;\n",
       "    }\n",
       "\n",
       "    .dataframe thead th {\n",
       "        text-align: right;\n",
       "    }\n",
       "</style>\n",
       "<table border=\"1\" class=\"dataframe\">\n",
       "  <thead>\n",
       "    <tr style=\"text-align: right;\">\n",
       "      <th></th>\n",
       "      <th>itemId</th>\n",
       "      <th>category</th>\n",
       "      <th>name</th>\n",
       "      <th>brandName</th>\n",
       "      <th>url</th>\n",
       "      <th>price</th>\n",
       "      <th>averageRating</th>\n",
       "      <th>totalReviews</th>\n",
       "      <th>retrievedDate</th>\n",
       "    </tr>\n",
       "  </thead>\n",
       "  <tbody>\n",
       "    <tr>\n",
       "      <th>0</th>\n",
       "      <td>100002528</td>\n",
       "      <td>beli-harddisk-eksternal</td>\n",
       "      <td>TOSHIBA Smart HD LED TV 32\" - 32L5650VJ Free B...</td>\n",
       "      <td>Toshiba</td>\n",
       "      <td>https://www.lazada.co.id/products/toshiba-smar...</td>\n",
       "      <td>2499000</td>\n",
       "      <td>4</td>\n",
       "      <td>8</td>\n",
       "      <td>2019-10-02</td>\n",
       "    </tr>\n",
       "    <tr>\n",
       "      <th>1</th>\n",
       "      <td>100003785</td>\n",
       "      <td>beli-harddisk-eksternal</td>\n",
       "      <td>TOSHIBA Full HD Smart LED TV 40\" - 40L5650VJ -...</td>\n",
       "      <td>Toshiba</td>\n",
       "      <td>https://www.lazada.co.id/products/toshiba-full...</td>\n",
       "      <td>3788000</td>\n",
       "      <td>3</td>\n",
       "      <td>3</td>\n",
       "      <td>2019-10-02</td>\n",
       "    </tr>\n",
       "    <tr>\n",
       "      <th>2</th>\n",
       "      <td>100004132</td>\n",
       "      <td>beli-harddisk-eksternal</td>\n",
       "      <td>Samsung 40 Inch Full HD Flat LED Digital TV 4...</td>\n",
       "      <td>LG</td>\n",
       "      <td>https://www.lazada.co.id/products/samsung-40-i...</td>\n",
       "      <td>3850000</td>\n",
       "      <td>3</td>\n",
       "      <td>2</td>\n",
       "      <td>2019-10-02</td>\n",
       "    </tr>\n",
       "    <tr>\n",
       "      <th>3</th>\n",
       "      <td>100004505</td>\n",
       "      <td>beli-harddisk-eksternal</td>\n",
       "      <td>Sharp HD LED TV 24\" - LC-24LE175I - Hitam</td>\n",
       "      <td>Sharp</td>\n",
       "      <td>https://www.lazada.co.id/products/sharp-hd-led...</td>\n",
       "      <td>1275000</td>\n",
       "      <td>3</td>\n",
       "      <td>11</td>\n",
       "      <td>2019-10-02</td>\n",
       "    </tr>\n",
       "    <tr>\n",
       "      <th>4</th>\n",
       "      <td>100005037</td>\n",
       "      <td>beli-harddisk-eksternal</td>\n",
       "      <td>Lenovo Ideapad 130-15AST LAPTOP MULTIMEDIA I A...</td>\n",
       "      <td>Lenovo</td>\n",
       "      <td>https://www.lazada.co.id/products/lenovo-ideap...</td>\n",
       "      <td>3984100</td>\n",
       "      <td>5</td>\n",
       "      <td>1</td>\n",
       "      <td>2019-10-02</td>\n",
       "    </tr>\n",
       "    <tr>\n",
       "      <th>...</th>\n",
       "      <td>...</td>\n",
       "      <td>...</td>\n",
       "      <td>...</td>\n",
       "      <td>...</td>\n",
       "      <td>...</td>\n",
       "      <td>...</td>\n",
       "      <td>...</td>\n",
       "      <td>...</td>\n",
       "      <td>...</td>\n",
       "    </tr>\n",
       "    <tr>\n",
       "      <th>10937</th>\n",
       "      <td>9467887</td>\n",
       "      <td>shop-televisi-digital</td>\n",
       "      <td>Toshiba 32L3750VJ Digital Tv DVB-T2 LED TV 32\"...</td>\n",
       "      <td>Toshiba</td>\n",
       "      <td>https://www.lazada.co.id/products/toshiba-32l3...</td>\n",
       "      <td>1990000</td>\n",
       "      <td>4</td>\n",
       "      <td>12</td>\n",
       "      <td>2019-10-02</td>\n",
       "    </tr>\n",
       "    <tr>\n",
       "      <th>10938</th>\n",
       "      <td>9467898</td>\n",
       "      <td>shop-televisi-digital</td>\n",
       "      <td>Samsung 43K5002AK Televisi LED - Khusus JABODE...</td>\n",
       "      <td>Samsung</td>\n",
       "      <td>https://www.lazada.co.id/products/samsung-43k5...</td>\n",
       "      <td>4590000</td>\n",
       "      <td>1</td>\n",
       "      <td>1</td>\n",
       "      <td>2019-10-02</td>\n",
       "    </tr>\n",
       "    <tr>\n",
       "      <th>10939</th>\n",
       "      <td>9467899</td>\n",
       "      <td>shop-televisi-digital</td>\n",
       "      <td>Sharp 32LE180i  AQUOS LED TV 32 \" Khusus JABOD...</td>\n",
       "      <td>Sharp</td>\n",
       "      <td>https://www.lazada.co.id/products/sharp-32le18...</td>\n",
       "      <td>1990000</td>\n",
       "      <td>4</td>\n",
       "      <td>2</td>\n",
       "      <td>2019-10-02</td>\n",
       "    </tr>\n",
       "    <tr>\n",
       "      <th>10940</th>\n",
       "      <td>9548087</td>\n",
       "      <td>shop-televisi-digital</td>\n",
       "      <td>Akari LED TV LE-50D88 50\" FULL HD (Hitam)   - ...</td>\n",
       "      <td>Akari</td>\n",
       "      <td>https://www.lazada.co.id/products/akari-led-tv...</td>\n",
       "      <td>4790000</td>\n",
       "      <td>5</td>\n",
       "      <td>1</td>\n",
       "      <td>2019-10-02</td>\n",
       "    </tr>\n",
       "    <tr>\n",
       "      <th>10941</th>\n",
       "      <td>9548767</td>\n",
       "      <td>shop-televisi-digital</td>\n",
       "      <td>Akari LED TV LE-25B88 25\" HD READY (Hitam)   -...</td>\n",
       "      <td>Akari</td>\n",
       "      <td>https://www.lazada.co.id/products/akari-led-tv...</td>\n",
       "      <td>1590000</td>\n",
       "      <td>4</td>\n",
       "      <td>2</td>\n",
       "      <td>2019-10-02</td>\n",
       "    </tr>\n",
       "  </tbody>\n",
       "</table>\n",
       "<p>10942 rows × 9 columns</p>\n",
       "</div>"
      ],
      "text/plain": [
       "          itemId                 category  \\\n",
       "0      100002528  beli-harddisk-eksternal   \n",
       "1      100003785  beli-harddisk-eksternal   \n",
       "2      100004132  beli-harddisk-eksternal   \n",
       "3      100004505  beli-harddisk-eksternal   \n",
       "4      100005037  beli-harddisk-eksternal   \n",
       "...          ...                      ...   \n",
       "10937    9467887    shop-televisi-digital   \n",
       "10938    9467898    shop-televisi-digital   \n",
       "10939    9467899    shop-televisi-digital   \n",
       "10940    9548087    shop-televisi-digital   \n",
       "10941    9548767    shop-televisi-digital   \n",
       "\n",
       "                                                    name brandName  \\\n",
       "0      TOSHIBA Smart HD LED TV 32\" - 32L5650VJ Free B...   Toshiba   \n",
       "1      TOSHIBA Full HD Smart LED TV 40\" - 40L5650VJ -...   Toshiba   \n",
       "2       Samsung 40 Inch Full HD Flat LED Digital TV 4...        LG   \n",
       "3              Sharp HD LED TV 24\" - LC-24LE175I - Hitam     Sharp   \n",
       "4      Lenovo Ideapad 130-15AST LAPTOP MULTIMEDIA I A...    Lenovo   \n",
       "...                                                  ...       ...   \n",
       "10937  Toshiba 32L3750VJ Digital Tv DVB-T2 LED TV 32\"...   Toshiba   \n",
       "10938  Samsung 43K5002AK Televisi LED - Khusus JABODE...   Samsung   \n",
       "10939  Sharp 32LE180i  AQUOS LED TV 32 \" Khusus JABOD...     Sharp   \n",
       "10940  Akari LED TV LE-50D88 50\" FULL HD (Hitam)   - ...     Akari   \n",
       "10941  Akari LED TV LE-25B88 25\" HD READY (Hitam)   -...     Akari   \n",
       "\n",
       "                                                     url    price  \\\n",
       "0      https://www.lazada.co.id/products/toshiba-smar...  2499000   \n",
       "1      https://www.lazada.co.id/products/toshiba-full...  3788000   \n",
       "2      https://www.lazada.co.id/products/samsung-40-i...  3850000   \n",
       "3      https://www.lazada.co.id/products/sharp-hd-led...  1275000   \n",
       "4      https://www.lazada.co.id/products/lenovo-ideap...  3984100   \n",
       "...                                                  ...      ...   \n",
       "10937  https://www.lazada.co.id/products/toshiba-32l3...  1990000   \n",
       "10938  https://www.lazada.co.id/products/samsung-43k5...  4590000   \n",
       "10939  https://www.lazada.co.id/products/sharp-32le18...  1990000   \n",
       "10940  https://www.lazada.co.id/products/akari-led-tv...  4790000   \n",
       "10941  https://www.lazada.co.id/products/akari-led-tv...  1590000   \n",
       "\n",
       "       averageRating  totalReviews retrievedDate  \n",
       "0                  4             8    2019-10-02  \n",
       "1                  3             3    2019-10-02  \n",
       "2                  3             2    2019-10-02  \n",
       "3                  3            11    2019-10-02  \n",
       "4                  5             1    2019-10-02  \n",
       "...              ...           ...           ...  \n",
       "10937              4            12    2019-10-02  \n",
       "10938              1             1    2019-10-02  \n",
       "10939              4             2    2019-10-02  \n",
       "10940              5             1    2019-10-02  \n",
       "10941              4             2    2019-10-02  \n",
       "\n",
       "[10942 rows x 9 columns]"
      ]
     },
     "execution_count": 6,
     "metadata": {},
     "output_type": "execute_result"
    }
   ],
   "source": [
    "df"
   ]
  },
  {
   "cell_type": "code",
   "execution_count": 7,
   "id": "a489b5a3",
   "metadata": {},
   "outputs": [
    {
     "data": {
      "text/plain": [
       "itemId            int64\n",
       "category         object\n",
       "name             object\n",
       "brandName        object\n",
       "url              object\n",
       "price             int64\n",
       "averageRating     int64\n",
       "totalReviews      int64\n",
       "retrievedDate    object\n",
       "dtype: object"
      ]
     },
     "execution_count": 7,
     "metadata": {},
     "output_type": "execute_result"
    }
   ],
   "source": [
    "df.dtypes"
   ]
  },
  {
   "cell_type": "markdown",
   "id": "dc6947db",
   "metadata": {},
   "source": [
    "<h1> Informasi yang didapatkan adalah\n",
    "jumlah record,</h1> \n",
    "\n",
    "<p>nama attribute,</p>\n",
    "\n",
    "<p>jumlah attribute dengan tipe objek,</p>\n",
    "\n",
    "<p>jumlah attribute dengan tipe angka,</p>\n",
    "\n",
    "<p>jumlah attribute yang memiliki nilai null.</p>\n",
    "\n",
    "<p><h3>Masukkan informasi di atas dalam dictionary dengan key sesuai nama informasinya. Tampilkan isi dari dictionary tersebut sebagus mungkin.<h3>"
   ]
  },
  {
   "cell_type": "code",
   "execution_count": 8,
   "id": "94ab3317",
   "metadata": {},
   "outputs": [
    {
     "data": {
      "text/plain": [
       "total record                                                           10942\n",
       "Nama Attribute yang ada    Index(['itemId', 'category', 'name', 'brandNam...\n",
       "Jumlah Objek                                                               5\n",
       "Jumlah Angka                                                               4\n",
       "Jumlah NULL                                                                1\n",
       "dtype: object"
      ]
     },
     "execution_count": 8,
     "metadata": {},
     "output_type": "execute_result"
    }
   ],
   "source": [
    "totalRecord = len(df)\n",
    "namaAttribute = df.columns\n",
    "jumlahObjek = len(df.select_dtypes(include=['object']).columns)\n",
    "jumlahAngka = len(df.select_dtypes(include=['int64']).columns)\n",
    "jumlahNULL = len(df.columns[df.isna().sum() > 0])\n",
    "\n",
    "dict1 = {\n",
    "    \"total record\": totalRecord,\n",
    "    \"Nama Attribute yang ada\": namaAttribute,\n",
    "    \"Jumlah Objek\": jumlahObjek,\n",
    "    \"Jumlah Angka\": jumlahAngka,\n",
    "    \"Jumlah NULL\": jumlahNULL,\n",
    "}\n",
    "\n",
    "pd.Series(dict1)"
   ]
  },
  {
   "cell_type": "markdown",
   "id": "b5993b17",
   "metadata": {},
   "source": [
    "<h4>Tampilkan rata-rata, standar deviasi, nilai minimum, nilai maksimum, Q1, Q2, dan Q3 dari attribute bertipe angka.</h4>\n",
    "<p>Tampilkan Nilai rata-rata dengan fungsi mean()"
   ]
  },
  {
   "cell_type": "code",
   "execution_count": 13,
   "id": "6e5ed3ef",
   "metadata": {},
   "outputs": [
    {
     "data": {
      "text/plain": [
       "itemId           2.936823e+08\n",
       "price            3.020219e+06\n",
       "averageRating    4.171632e+00\n",
       "totalReviews     2.736949e+01\n",
       "dtype: float64"
      ]
     },
     "execution_count": 13,
     "metadata": {},
     "output_type": "execute_result"
    }
   ],
   "source": [
    "df.select_dtypes(include=['int64']).mean()"
   ]
  },
  {
   "cell_type": "markdown",
   "id": "57c04044",
   "metadata": {},
   "source": [
    "<h3>Tampilkan Nilai Standar deviasi dengan fungsi std()"
   ]
  },
  {
   "cell_type": "code",
   "execution_count": 10,
   "id": "6ef44fe1",
   "metadata": {},
   "outputs": [
    {
     "data": {
      "text/plain": [
       "itemId           2.090568e+08\n",
       "price            6.681453e+06\n",
       "averageRating    1.032055e+00\n",
       "totalReviews     2.602538e+02\n",
       "dtype: float64"
      ]
     },
     "execution_count": 10,
     "metadata": {},
     "output_type": "execute_result"
    }
   ],
   "source": [
    "df.select_dtypes(include=['int64']).std()"
   ]
  },
  {
   "cell_type": "markdown",
   "id": "23054abd",
   "metadata": {},
   "source": [
    "<h3>Tampilkan Nilai Minimum dengan fungsi min()"
   ]
  },
  {
   "cell_type": "code",
   "execution_count": 11,
   "id": "2eb1fea9",
   "metadata": {},
   "outputs": [
    {
     "data": {
      "text/plain": [
       "itemId           6068\n",
       "price            1000\n",
       "averageRating       1\n",
       "totalReviews        1\n",
       "dtype: int64"
      ]
     },
     "execution_count": 11,
     "metadata": {},
     "output_type": "execute_result"
    }
   ],
   "source": [
    "df.select_dtypes(include=['int64']).min()"
   ]
  },
  {
   "cell_type": "markdown",
   "id": "26185835",
   "metadata": {},
   "source": [
    "<h3>\n",
    "Tampilkan Nilai Maksimum dengan fungsi max()"
   ]
  },
  {
   "cell_type": "code",
   "execution_count": 14,
   "id": "0ad254cf",
   "metadata": {},
   "outputs": [
    {
     "data": {
      "text/plain": [
       "itemId           724216967\n",
       "price            275000000\n",
       "averageRating            5\n",
       "totalReviews          9631\n",
       "dtype: int64"
      ]
     },
     "execution_count": 14,
     "metadata": {},
     "output_type": "execute_result"
    }
   ],
   "source": [
    "df.select_dtypes(include=['int64']).max()"
   ]
  },
  {
   "cell_type": "markdown",
   "id": "b3cdbdb4",
   "metadata": {},
   "source": [
    "<h3>Tampilkan Nilai Q1, Q2, dan Q3 dengan fungsi quantile()"
   ]
  },
  {
   "cell_type": "code",
   "execution_count": 15,
   "id": "4b599fd4",
   "metadata": {},
   "outputs": [
    {
     "data": {
      "text/html": [
       "<div>\n",
       "<style scoped>\n",
       "    .dataframe tbody tr th:only-of-type {\n",
       "        vertical-align: middle;\n",
       "    }\n",
       "\n",
       "    .dataframe tbody tr th {\n",
       "        vertical-align: top;\n",
       "    }\n",
       "\n",
       "    .dataframe thead th {\n",
       "        text-align: right;\n",
       "    }\n",
       "</style>\n",
       "<table border=\"1\" class=\"dataframe\">\n",
       "  <thead>\n",
       "    <tr style=\"text-align: right;\">\n",
       "      <th></th>\n",
       "      <th>itemId</th>\n",
       "      <th>price</th>\n",
       "      <th>averageRating</th>\n",
       "      <th>totalReviews</th>\n",
       "    </tr>\n",
       "  </thead>\n",
       "  <tbody>\n",
       "    <tr>\n",
       "      <th>0.25</th>\n",
       "      <td>1.082924e+08</td>\n",
       "      <td>79200.0</td>\n",
       "      <td>4.0</td>\n",
       "      <td>1.0</td>\n",
       "    </tr>\n",
       "    <tr>\n",
       "      <th>0.50</th>\n",
       "      <td>3.540792e+08</td>\n",
       "      <td>1095000.0</td>\n",
       "      <td>4.0</td>\n",
       "      <td>2.0</td>\n",
       "    </tr>\n",
       "    <tr>\n",
       "      <th>0.75</th>\n",
       "      <td>4.527141e+08</td>\n",
       "      <td>3959000.0</td>\n",
       "      <td>5.0</td>\n",
       "      <td>7.0</td>\n",
       "    </tr>\n",
       "  </tbody>\n",
       "</table>\n",
       "</div>"
      ],
      "text/plain": [
       "            itemId      price  averageRating  totalReviews\n",
       "0.25  1.082924e+08    79200.0            4.0           1.0\n",
       "0.50  3.540792e+08  1095000.0            4.0           2.0\n",
       "0.75  4.527141e+08  3959000.0            5.0           7.0"
      ]
     },
     "execution_count": 15,
     "metadata": {},
     "output_type": "execute_result"
    }
   ],
   "source": [
    "df.select_dtypes(include=['int64']).quantile([0.25,0.5,0.75])"
   ]
  },
  {
   "cell_type": "markdown",
   "id": "9b6dffa3",
   "metadata": {},
   "source": [
    "<h3>Menampilakn semua sekaligus diatas dengan fungsi .describe()"
   ]
  },
  {
   "cell_type": "code",
   "execution_count": 17,
   "id": "bc2bc6b2",
   "metadata": {},
   "outputs": [
    {
     "data": {
      "text/html": [
       "<div>\n",
       "<style scoped>\n",
       "    .dataframe tbody tr th:only-of-type {\n",
       "        vertical-align: middle;\n",
       "    }\n",
       "\n",
       "    .dataframe tbody tr th {\n",
       "        vertical-align: top;\n",
       "    }\n",
       "\n",
       "    .dataframe thead th {\n",
       "        text-align: right;\n",
       "    }\n",
       "</style>\n",
       "<table border=\"1\" class=\"dataframe\">\n",
       "  <thead>\n",
       "    <tr style=\"text-align: right;\">\n",
       "      <th></th>\n",
       "      <th>itemId</th>\n",
       "      <th>price</th>\n",
       "      <th>averageRating</th>\n",
       "      <th>totalReviews</th>\n",
       "    </tr>\n",
       "  </thead>\n",
       "  <tbody>\n",
       "    <tr>\n",
       "      <th>count</th>\n",
       "      <td>1.094200e+04</td>\n",
       "      <td>1.094200e+04</td>\n",
       "      <td>10942.000000</td>\n",
       "      <td>10942.000000</td>\n",
       "    </tr>\n",
       "    <tr>\n",
       "      <th>mean</th>\n",
       "      <td>2.936823e+08</td>\n",
       "      <td>3.020219e+06</td>\n",
       "      <td>4.171632</td>\n",
       "      <td>27.369494</td>\n",
       "    </tr>\n",
       "    <tr>\n",
       "      <th>std</th>\n",
       "      <td>2.090568e+08</td>\n",
       "      <td>6.681453e+06</td>\n",
       "      <td>1.032055</td>\n",
       "      <td>260.253817</td>\n",
       "    </tr>\n",
       "    <tr>\n",
       "      <th>min</th>\n",
       "      <td>6.068000e+03</td>\n",
       "      <td>1.000000e+03</td>\n",
       "      <td>1.000000</td>\n",
       "      <td>1.000000</td>\n",
       "    </tr>\n",
       "    <tr>\n",
       "      <th>25%</th>\n",
       "      <td>1.082924e+08</td>\n",
       "      <td>7.920000e+04</td>\n",
       "      <td>4.000000</td>\n",
       "      <td>1.000000</td>\n",
       "    </tr>\n",
       "    <tr>\n",
       "      <th>50%</th>\n",
       "      <td>3.540792e+08</td>\n",
       "      <td>1.095000e+06</td>\n",
       "      <td>4.000000</td>\n",
       "      <td>2.000000</td>\n",
       "    </tr>\n",
       "    <tr>\n",
       "      <th>75%</th>\n",
       "      <td>4.527141e+08</td>\n",
       "      <td>3.959000e+06</td>\n",
       "      <td>5.000000</td>\n",
       "      <td>7.000000</td>\n",
       "    </tr>\n",
       "    <tr>\n",
       "      <th>max</th>\n",
       "      <td>7.242170e+08</td>\n",
       "      <td>2.750000e+08</td>\n",
       "      <td>5.000000</td>\n",
       "      <td>9631.000000</td>\n",
       "    </tr>\n",
       "  </tbody>\n",
       "</table>\n",
       "</div>"
      ],
      "text/plain": [
       "             itemId         price  averageRating  totalReviews\n",
       "count  1.094200e+04  1.094200e+04   10942.000000  10942.000000\n",
       "mean   2.936823e+08  3.020219e+06       4.171632     27.369494\n",
       "std    2.090568e+08  6.681453e+06       1.032055    260.253817\n",
       "min    6.068000e+03  1.000000e+03       1.000000      1.000000\n",
       "25%    1.082924e+08  7.920000e+04       4.000000      1.000000\n",
       "50%    3.540792e+08  1.095000e+06       4.000000      2.000000\n",
       "75%    4.527141e+08  3.959000e+06       5.000000      7.000000\n",
       "max    7.242170e+08  2.750000e+08       5.000000   9631.000000"
      ]
     },
     "execution_count": 17,
     "metadata": {},
     "output_type": "execute_result"
    }
   ],
   "source": [
    "df.describe()"
   ]
  },
  {
   "cell_type": "markdown",
   "id": "251a6eca",
   "metadata": {},
   "source": [
    "<h3>\n",
    "Tampilkan nilai korelasi attribute bertipe angka."
   ]
  },
  {
   "cell_type": "code",
   "execution_count": 18,
   "id": "a1ffaeab",
   "metadata": {},
   "outputs": [
    {
     "data": {
      "text/html": [
       "<div>\n",
       "<style scoped>\n",
       "    .dataframe tbody tr th:only-of-type {\n",
       "        vertical-align: middle;\n",
       "    }\n",
       "\n",
       "    .dataframe tbody tr th {\n",
       "        vertical-align: top;\n",
       "    }\n",
       "\n",
       "    .dataframe thead th {\n",
       "        text-align: right;\n",
       "    }\n",
       "</style>\n",
       "<table border=\"1\" class=\"dataframe\">\n",
       "  <thead>\n",
       "    <tr style=\"text-align: right;\">\n",
       "      <th></th>\n",
       "      <th>itemId</th>\n",
       "      <th>price</th>\n",
       "      <th>averageRating</th>\n",
       "      <th>totalReviews</th>\n",
       "    </tr>\n",
       "  </thead>\n",
       "  <tbody>\n",
       "    <tr>\n",
       "      <th>itemId</th>\n",
       "      <td>1.000000</td>\n",
       "      <td>-0.002292</td>\n",
       "      <td>0.137380</td>\n",
       "      <td>-0.000554</td>\n",
       "    </tr>\n",
       "    <tr>\n",
       "      <th>price</th>\n",
       "      <td>-0.002292</td>\n",
       "      <td>1.000000</td>\n",
       "      <td>0.099070</td>\n",
       "      <td>-0.012488</td>\n",
       "    </tr>\n",
       "    <tr>\n",
       "      <th>averageRating</th>\n",
       "      <td>0.137380</td>\n",
       "      <td>0.099070</td>\n",
       "      <td>1.000000</td>\n",
       "      <td>-0.018856</td>\n",
       "    </tr>\n",
       "    <tr>\n",
       "      <th>totalReviews</th>\n",
       "      <td>-0.000554</td>\n",
       "      <td>-0.012488</td>\n",
       "      <td>-0.018856</td>\n",
       "      <td>1.000000</td>\n",
       "    </tr>\n",
       "  </tbody>\n",
       "</table>\n",
       "</div>"
      ],
      "text/plain": [
       "                 itemId     price  averageRating  totalReviews\n",
       "itemId         1.000000 -0.002292       0.137380     -0.000554\n",
       "price         -0.002292  1.000000       0.099070     -0.012488\n",
       "averageRating  0.137380  0.099070       1.000000     -0.018856\n",
       "totalReviews  -0.000554 -0.012488      -0.018856      1.000000"
      ]
     },
     "execution_count": 18,
     "metadata": {},
     "output_type": "execute_result"
    }
   ],
   "source": [
    "df.select_dtypes(include=['int64']).corr()"
   ]
  },
  {
   "cell_type": "markdown",
   "id": "e01844fc",
   "metadata": {},
   "source": [
    "<h3>Rubah nilai salah satu attribute bertipe bilangan bulat menjadi bilangan desimal 3 angka di belakang koma."
   ]
  },
  {
   "cell_type": "code",
   "execution_count": 19,
   "id": "2a257cc4",
   "metadata": {},
   "outputs": [
    {
     "data": {
      "text/plain": [
       "dtype('float64')"
      ]
     },
     "execution_count": 19,
     "metadata": {},
     "output_type": "execute_result"
    }
   ],
   "source": [
    "df[\"itemId\"] = df[\"itemId\"].astype('float64', errors='ignore')\n",
    "df[\"itemId\"].dtypes"
   ]
  },
  {
   "cell_type": "code",
   "execution_count": 20,
   "id": "911ce384",
   "metadata": {},
   "outputs": [],
   "source": [
    "df[\"itemId\"] = df[\"itemId\"].astype('int64', errors='ignore')"
   ]
  },
  {
   "cell_type": "markdown",
   "id": "6e74ffb7",
   "metadata": {},
   "source": [
    "<h3> Menampilkan menggunakan fungsi display dengan format 3 angka di belakang koma"
   ]
  },
  {
   "cell_type": "code",
   "execution_count": 36,
   "id": "821503ea",
   "metadata": {},
   "outputs": [
    {
     "data": {
      "text/plain": [
       "0       100002528.000\n",
       "1       100003785.000\n",
       "2       100004132.000\n",
       "3       100004505.000\n",
       "4       100005037.000\n",
       "             ...     \n",
       "10937     9467887.000\n",
       "10938     9467898.000\n",
       "10939     9467899.000\n",
       "10940     9548087.000\n",
       "10941     9548767.000\n",
       "Name: itemId, Length: 10942, dtype: float64"
      ]
     },
     "execution_count": 36,
     "metadata": {},
     "output_type": "execute_result"
    }
   ],
   "source": [
    "pd.options.display.float_format = '{:.3f}'.format\n",
    "df.itemId.astype('float64')"
   ]
  },
  {
   "cell_type": "markdown",
   "id": "74f9ef6d",
   "metadata": {},
   "source": [
    "<h3>Tampilkan 10 record pertama dari attribute bertipe angka."
   ]
  },
  {
   "cell_type": "code",
   "execution_count": 37,
   "id": "d951ffb7",
   "metadata": {},
   "outputs": [
    {
     "data": {
      "text/html": [
       "<div>\n",
       "<style scoped>\n",
       "    .dataframe tbody tr th:only-of-type {\n",
       "        vertical-align: middle;\n",
       "    }\n",
       "\n",
       "    .dataframe tbody tr th {\n",
       "        vertical-align: top;\n",
       "    }\n",
       "\n",
       "    .dataframe thead th {\n",
       "        text-align: right;\n",
       "    }\n",
       "</style>\n",
       "<table border=\"1\" class=\"dataframe\">\n",
       "  <thead>\n",
       "    <tr style=\"text-align: right;\">\n",
       "      <th></th>\n",
       "      <th>itemId</th>\n",
       "      <th>price</th>\n",
       "      <th>averageRating</th>\n",
       "      <th>totalReviews</th>\n",
       "    </tr>\n",
       "  </thead>\n",
       "  <tbody>\n",
       "    <tr>\n",
       "      <th>0</th>\n",
       "      <td>100002528</td>\n",
       "      <td>2499000</td>\n",
       "      <td>4</td>\n",
       "      <td>8</td>\n",
       "    </tr>\n",
       "    <tr>\n",
       "      <th>1</th>\n",
       "      <td>100003785</td>\n",
       "      <td>3788000</td>\n",
       "      <td>3</td>\n",
       "      <td>3</td>\n",
       "    </tr>\n",
       "    <tr>\n",
       "      <th>2</th>\n",
       "      <td>100004132</td>\n",
       "      <td>3850000</td>\n",
       "      <td>3</td>\n",
       "      <td>2</td>\n",
       "    </tr>\n",
       "    <tr>\n",
       "      <th>3</th>\n",
       "      <td>100004505</td>\n",
       "      <td>1275000</td>\n",
       "      <td>3</td>\n",
       "      <td>11</td>\n",
       "    </tr>\n",
       "    <tr>\n",
       "      <th>4</th>\n",
       "      <td>100005037</td>\n",
       "      <td>3984100</td>\n",
       "      <td>5</td>\n",
       "      <td>1</td>\n",
       "    </tr>\n",
       "    <tr>\n",
       "      <th>5</th>\n",
       "      <td>100006860</td>\n",
       "      <td>55800</td>\n",
       "      <td>4</td>\n",
       "      <td>2</td>\n",
       "    </tr>\n",
       "    <tr>\n",
       "      <th>6</th>\n",
       "      <td>100007498</td>\n",
       "      <td>8132000</td>\n",
       "      <td>5</td>\n",
       "      <td>2</td>\n",
       "    </tr>\n",
       "    <tr>\n",
       "      <th>7</th>\n",
       "      <td>100010722</td>\n",
       "      <td>1990000</td>\n",
       "      <td>4</td>\n",
       "      <td>10</td>\n",
       "    </tr>\n",
       "    <tr>\n",
       "      <th>8</th>\n",
       "      <td>100010745</td>\n",
       "      <td>3190000</td>\n",
       "      <td>4</td>\n",
       "      <td>7</td>\n",
       "    </tr>\n",
       "    <tr>\n",
       "      <th>9</th>\n",
       "      <td>100015720</td>\n",
       "      <td>8000000</td>\n",
       "      <td>3</td>\n",
       "      <td>8</td>\n",
       "    </tr>\n",
       "  </tbody>\n",
       "</table>\n",
       "</div>"
      ],
      "text/plain": [
       "      itemId    price  averageRating  totalReviews\n",
       "0  100002528  2499000              4             8\n",
       "1  100003785  3788000              3             3\n",
       "2  100004132  3850000              3             2\n",
       "3  100004505  1275000              3            11\n",
       "4  100005037  3984100              5             1\n",
       "5  100006860    55800              4             2\n",
       "6  100007498  8132000              5             2\n",
       "7  100010722  1990000              4            10\n",
       "8  100010745  3190000              4             7\n",
       "9  100015720  8000000              3             8"
      ]
     },
     "execution_count": 37,
     "metadata": {},
     "output_type": "execute_result"
    }
   ],
   "source": [
    "df.select_dtypes(include=['int64']).head(10)"
   ]
  },
  {
   "cell_type": "markdown",
   "id": "9b65fd1a",
   "metadata": {},
   "source": [
    "<h3> Simpan dataset dengan attribute bertipe angka ke dalam file CSV."
   ]
  },
  {
   "cell_type": "code",
   "execution_count": 38,
   "id": "79a0f2f9",
   "metadata": {},
   "outputs": [],
   "source": [
    "df.select_dtypes(include=['int64']).to_csv(\"Atribut_Bertipe Angka.csv\", index=False)"
   ]
  },
  {
   "cell_type": "code",
   "execution_count": null,
   "id": "33f6ba5c",
   "metadata": {},
   "outputs": [],
   "source": []
  }
 ],
 "metadata": {
  "kernelspec": {
   "display_name": "Python 3 (ipykernel)",
   "language": "python",
   "name": "python3"
  },
  "language_info": {
   "codemirror_mode": {
    "name": "ipython",
    "version": 3
   },
   "file_extension": ".py",
   "mimetype": "text/x-python",
   "name": "python",
   "nbconvert_exporter": "python",
   "pygments_lexer": "ipython3",
   "version": "3.10.7"
  }
 },
 "nbformat": 4,
 "nbformat_minor": 5
}
