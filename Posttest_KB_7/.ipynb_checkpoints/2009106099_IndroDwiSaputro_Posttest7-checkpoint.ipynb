{
 "cells": [
  {
   "cell_type": "markdown",
   "id": "ab67eeca",
   "metadata": {},
   "source": [
    "# POSTTEST 7\n",
    "\n",
    "<h3> Indro Dwi Saputro <br>\n",
    "    2009106099"
   ]
  },
  {
   "cell_type": "markdown",
   "id": "4b6d1835",
   "metadata": {},
   "source": [
    "## TENSORFLOW"
   ]
  },
  {
   "cell_type": "markdown",
   "id": "06d74a05",
   "metadata": {},
   "source": [
    "<b>Import Modul"
   ]
  },
  {
   "cell_type": "code",
   "execution_count": 1,
   "id": "dcabde94",
   "metadata": {},
   "outputs": [],
   "source": [
    "import numpy as np\n",
    "import tensorflow as tf"
   ]
  },
  {
   "cell_type": "markdown",
   "id": "67833efe",
   "metadata": {},
   "source": [
    "<b>Membuat random tensor dengan shape 5:5"
   ]
  },
  {
   "cell_type": "code",
   "execution_count": 3,
   "id": "1574fe38",
   "metadata": {},
   "outputs": [
    {
     "data": {
      "text/plain": [
       "<tf.Tensor: shape=(5, 5), dtype=float32, numpy=\n",
       "array([[ 1.6618013 ,  1.0116465 ,  0.96005505, -1.738308  ,  0.15029924],\n",
       "       [-1.1848385 ,  0.6493019 , -0.87421864,  0.3774005 ,  0.71305037],\n",
       "       [-0.21249633,  0.37224495,  0.88591725,  0.42573622, -1.2816483 ],\n",
       "       [-0.9481375 , -0.45597848, -0.12304588, -0.46477535, -0.46922892],\n",
       "       [ 0.77569354, -1.0398889 ,  0.09249251,  0.30379173, -0.6769406 ]],\n",
       "      dtype=float32)>"
      ]
     },
     "execution_count": 3,
     "metadata": {},
     "output_type": "execute_result"
    }
   ],
   "source": [
    "random_tensor = tf.random.normal([5,5])\n",
    "random_tensor"
   ]
  },
  {
   "cell_type": "markdown",
   "id": "30f53853",
   "metadata": {},
   "source": [
    "### Membuat prime tensor list bilangan prima dengan shape 5:5"
   ]
  },
  {
   "cell_type": "code",
   "execution_count": 6,
   "id": "ba4b3b41",
   "metadata": {},
   "outputs": [
    {
     "data": {
      "text/plain": [
       "<tf.Tensor: shape=(5, 5), dtype=float32, numpy=\n",
       "array([[  2.,   3.,   5.,   7.,  11.],\n",
       "       [ 13.,  17.,  19.,  23.,  29.],\n",
       "       [ 31.,  37.,  41.,  43.,  47.],\n",
       "       [ 53.,  59.,  61.,  71.,  73.],\n",
       "       [ 79.,  83.,  89.,  97., 101.]], dtype=float32)>"
      ]
     },
     "execution_count": 6,
     "metadata": {},
     "output_type": "execute_result"
    }
   ],
   "source": [
    "prime_tensor = tf.constant([2, 3, 5, 7, 11, 13, 17, 19, 23, 29, 31, 37, 41, 43, 47, 53, 59, 61, 71, 73, 79, 83, 89, 97, 101], \n",
    "                           shape=[5, 5], dtype=tf.float32)\n",
    "prime_tensor"
   ]
  },
  {
   "cell_type": "markdown",
   "id": "e456b1b4",
   "metadata": {},
   "source": [
    "<b>Perhitungan aritmatika add"
   ]
  },
  {
   "cell_type": "code",
   "execution_count": 7,
   "id": "9c711b0b",
   "metadata": {},
   "outputs": [
    {
     "name": "stdout",
     "output_type": "stream",
     "text": [
      "tf.Tensor(\n",
      "[[  3.6618013   4.0116463   5.960055    5.261692   11.150299 ]\n",
      " [ 11.815162   17.649302   18.125782   23.377401   29.71305  ]\n",
      " [ 30.787504   37.372246   41.885918   43.425735   45.718353 ]\n",
      " [ 52.05186    58.54402    60.876953   70.535225   72.53077  ]\n",
      " [ 79.775696   81.96011    89.09249    97.303795  100.32306  ]], shape=(5, 5), dtype=float32)\n"
     ]
    }
   ],
   "source": [
    "print(tf.add(random_tensor, prime_tensor))"
   ]
  },
  {
   "cell_type": "markdown",
   "id": "9ec31750",
   "metadata": {},
   "source": [
    "<b> Perhitungan aritmatika multiply"
   ]
  },
  {
   "cell_type": "code",
   "execution_count": 8,
   "id": "e2064df4",
   "metadata": {},
   "outputs": [
    {
     "name": "stdout",
     "output_type": "stream",
     "text": [
      "tf.Tensor(\n",
      "[[  3.3236027   3.0349395   4.8002753 -12.168156    1.6532916]\n",
      " [-15.402901   11.038132  -16.610155    8.680211   20.678461 ]\n",
      " [ -6.587386   13.773064   36.32261    18.306658  -60.23747  ]\n",
      " [-50.25129   -26.90273    -7.5057983 -32.99905   -34.25371  ]\n",
      " [ 61.27979   -86.310776    8.231833   29.467798  -68.371    ]], shape=(5, 5), dtype=float32)\n"
     ]
    }
   ],
   "source": [
    "print(tf.multiply(random_tensor, prime_tensor))"
   ]
  },
  {
   "cell_type": "markdown",
   "id": "0b240ae1",
   "metadata": {},
   "source": [
    "<b>Perhitungan aritmatika pow"
   ]
  },
  {
   "cell_type": "code",
   "execution_count": 9,
   "id": "5759bab8",
   "metadata": {},
   "outputs": [
    {
     "name": "stdout",
     "output_type": "stream",
     "text": [
      "tf.Tensor(\n",
      "[[ 2.7615838e+00  1.0353481e+00  8.1560653e-01 -4.7960865e+01\n",
      "   8.8414709e-10]\n",
      " [-9.0692043e+00  6.4802729e-04 -7.7764466e-02  1.8469558e-10\n",
      "   5.5015618e-05]\n",
      " [-1.4057049e-21  1.3202808e-16  6.9681806e-03  1.1299150e-16\n",
      "  -1.1618133e+05]\n",
      " [-5.9453946e-02 -7.5459963e-21 -0.0000000e+00 -2.3673331e-24\n",
      "  -1.0258610e-24]\n",
      " [ 1.9298503e-09 -2.5698915e+01  0.0000000e+00  0.0000000e+00\n",
      "  -7.6843664e-18]], shape=(5, 5), dtype=float32)\n"
     ]
    }
   ],
   "source": [
    "print(tf.pow(random_tensor, prime_tensor))"
   ]
  },
  {
   "cell_type": "markdown",
   "id": "40b33e82",
   "metadata": {},
   "source": [
    "<b>Perhitungan aritmatika divide"
   ]
  },
  {
   "cell_type": "code",
   "execution_count": 10,
   "id": "e2768b5a",
   "metadata": {},
   "outputs": [
    {
     "name": "stdout",
     "output_type": "stream",
     "text": [
      "tf.Tensor(\n",
      "[[ 0.83090067  0.3372155   0.19201101 -0.24832971  0.01366357]\n",
      " [-0.09114143  0.03819423 -0.04601151  0.01640872  0.02458794]\n",
      " [-0.00685472  0.01006067  0.02160774  0.00990084 -0.02726911]\n",
      " [-0.01788939 -0.00772845 -0.00201715 -0.00654613 -0.00642779]\n",
      " [ 0.00981891 -0.01252878  0.00103924  0.00313187 -0.00670238]], shape=(5, 5), dtype=float32)\n"
     ]
    }
   ],
   "source": [
    "print(tf.divide(random_tensor, prime_tensor))"
   ]
  },
  {
   "cell_type": "markdown",
   "id": "e5fa7465",
   "metadata": {},
   "source": [
    "<b> Perhitungan aritmatika math.log"
   ]
  },
  {
   "cell_type": "code",
   "execution_count": 11,
   "id": "2a41b55a",
   "metadata": {},
   "outputs": [
    {
     "name": "stdout",
     "output_type": "stream",
     "text": [
      "tf.Tensor(\n",
      "[[ 0.50790215  0.01157921 -0.04076465         nan -1.895127  ]\n",
      " [        nan -0.43185753         nan -0.9744483  -0.33820325]\n",
      " [        nan -0.98820317 -0.12113173 -0.85393536         nan]\n",
      " [        nan         nan         nan         nan         nan]\n",
      " [-0.25399777         nan -2.3806276  -1.1914129          nan]], shape=(5, 5), dtype=float32)\n"
     ]
    }
   ],
   "source": [
    "print(tf.math.log(random_tensor, prime_tensor))"
   ]
  },
  {
   "cell_type": "markdown",
   "id": "045d37e3",
   "metadata": {},
   "source": [
    "<b> Nilai maximal dari random_tensor"
   ]
  },
  {
   "cell_type": "code",
   "execution_count": 15,
   "id": "4e464813",
   "metadata": {},
   "outputs": [
    {
     "name": "stdout",
     "output_type": "stream",
     "text": [
      "value random tensor: [[ 1.6618013   1.0116465   0.96005505 -1.738308    0.15029924]\n",
      " [-1.1848385   0.6493019  -0.87421864  0.3774005   0.71305037]\n",
      " [-0.21249633  0.37224495  0.88591725  0.42573622 -1.2816483 ]\n",
      " [-0.9481375  -0.45597848 -0.12304588 -0.46477535 -0.46922892]\n",
      " [ 0.77569354 -1.0398889   0.09249251  0.30379173 -0.6769406 ]]\n",
      "maximum value berdasarkan kolom: [0 0 0 2 1]\n",
      "maximum value berdasarkan baris: [0 4 2 2 0]\n"
     ]
    }
   ],
   "source": [
    "print(\"value random tensor:\",random_tensor.numpy())\n",
    "max_random_1 = tf.argmax(random_tensor, axis = 0)\n",
    "max_random_2 = tf.argmax(random_tensor, axis = 1)\n",
    "print(\"maximum value berdasarkan kolom:\",max_random_1.numpy())\n",
    "print(\"maximum value berdasarkan baris:\",max_random_2.numpy())"
   ]
  },
  {
   "cell_type": "markdown",
   "id": "6cf4f8ce",
   "metadata": {},
   "source": [
    "<b> Nilai minimal dari random_tensor"
   ]
  },
  {
   "cell_type": "code",
   "execution_count": 17,
   "id": "2f641dfa",
   "metadata": {},
   "outputs": [
    {
     "name": "stdout",
     "output_type": "stream",
     "text": [
      "value random tensor: [[ 1.6618013   1.0116465   0.96005505 -1.738308    0.15029924]\n",
      " [-1.1848385   0.6493019  -0.87421864  0.3774005   0.71305037]\n",
      " [-0.21249633  0.37224495  0.88591725  0.42573622 -1.2816483 ]\n",
      " [-0.9481375  -0.45597848 -0.12304588 -0.46477535 -0.46922892]\n",
      " [ 0.77569354 -1.0398889   0.09249251  0.30379173 -0.6769406 ]]\n",
      "minimum value berdasarkan kolom: [1 4 1 0 2]\n",
      "minimum value berdasarkan baris: [3 0 4 0 1]\n"
     ]
    }
   ],
   "source": [
    "print(\"value random tensor:\",random_tensor.numpy())\n",
    "min_random_1 = tf.argmin(random_tensor, axis = 0)\n",
    "min_random_2 = tf.argmin(random_tensor, axis = 1)\n",
    "print(\"minimum value berdasarkan kolom:\",min_random_1.numpy())\n",
    "print(\"minimum value berdasarkan baris:\",min_random_2.numpy())"
   ]
  },
  {
   "cell_type": "markdown",
   "id": "9ca7a30a",
   "metadata": {},
   "source": [
    "<h1> Concatenation\n",
    "<h2> Penggabungan variable random_tensor & prime_tensor"
   ]
  },
  {
   "cell_type": "code",
   "execution_count": 18,
   "id": "307d9c10",
   "metadata": {},
   "outputs": [
    {
     "name": "stdout",
     "output_type": "stream",
     "text": [
      "size original data: (5, 5) (5, 5)\n",
      "size concatenated data: (10, 5)\n"
     ]
    }
   ],
   "source": [
    "print(\"size original data:\",random_tensor.shape,prime_tensor.shape)\n",
    "concated_tensor = tf.concat([random_tensor,prime_tensor],axis=0)\n",
    "print(\"size concatenated data:\",concated_tensor.shape)"
   ]
  },
  {
   "cell_type": "markdown",
   "id": "d2e75231",
   "metadata": {},
   "source": [
    "<b> Sorting descending variable random_tensor & prime_tensor"
   ]
  },
  {
   "cell_type": "code",
   "execution_count": 19,
   "id": "3c6397e6",
   "metadata": {},
   "outputs": [
    {
     "name": "stdout",
     "output_type": "stream",
     "text": [
      "input random tensor: [[ 1.6618013   1.0116465   0.96005505 -1.738308    0.15029924]\n",
      " [-1.1848385   0.6493019  -0.87421864  0.3774005   0.71305037]\n",
      " [-0.21249633  0.37224495  0.88591725  0.42573622 -1.2816483 ]\n",
      " [-0.9481375  -0.45597848 -0.12304588 -0.46477535 -0.46922892]\n",
      " [ 0.77569354 -1.0398889   0.09249251  0.30379173 -0.6769406 ]]\n",
      "input prime tensor: [[  2.   3.   5.   7.  11.]\n",
      " [ 13.  17.  19.  23.  29.]\n",
      " [ 31.  37.  41.  43.  47.]\n",
      " [ 53.  59.  61.  71.  73.]\n",
      " [ 79.  83.  89.  97. 101.]]\n",
      "random tensor sorted dengan descending order: [[ 1.6618013   1.0116465   0.96005505  0.15029924 -1.738308  ]\n",
      " [ 0.71305037  0.6493019   0.3774005  -0.87421864 -1.1848385 ]\n",
      " [ 0.88591725  0.42573622  0.37224495 -0.21249633 -1.2816483 ]\n",
      " [-0.12304588 -0.45597848 -0.46477535 -0.46922892 -0.9481375 ]\n",
      " [ 0.77569354  0.30379173  0.09249251 -0.6769406  -1.0398889 ]]\n",
      "prime tensor sorted dengan descending order: [[ 11.   7.   5.   3.   2.]\n",
      " [ 29.  23.  19.  17.  13.]\n",
      " [ 47.  43.  41.  37.  31.]\n",
      " [ 73.  71.  61.  59.  53.]\n",
      " [101.  97.  89.  83.  79.]]\n"
     ]
    }
   ],
   "source": [
    "print(\"input random tensor:\",random_tensor.numpy())\n",
    "print(\"input prime tensor:\",prime_tensor.numpy())\n",
    "sorted_random = tf.sort(random_tensor, direction = \"DESCENDING\")\n",
    "print(\"random tensor sorted dengan descending order:\",sorted_random.numpy())\n",
    "sorted_prime = tf.sort(prime_tensor, direction = \"DESCENDING\")\n",
    "print(\"prime tensor sorted dengan descending order:\",sorted_prime.numpy())\n"
   ]
  },
  {
   "cell_type": "code",
   "execution_count": null,
   "id": "8b355a66",
   "metadata": {},
   "outputs": [],
   "source": []
  }
 ],
 "metadata": {
  "kernelspec": {
   "display_name": "Python 3 (ipykernel)",
   "language": "python",
   "name": "python3"
  },
  "language_info": {
   "codemirror_mode": {
    "name": "ipython",
    "version": 3
   },
   "file_extension": ".py",
   "mimetype": "text/x-python",
   "name": "python",
   "nbconvert_exporter": "python",
   "pygments_lexer": "ipython3",
   "version": "3.10.7"
  }
 },
 "nbformat": 4,
 "nbformat_minor": 5
}
