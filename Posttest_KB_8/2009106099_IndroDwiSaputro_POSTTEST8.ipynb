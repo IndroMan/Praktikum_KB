{
 "cells": [
  {
   "cell_type": "markdown",
   "metadata": {},
   "source": [
    "### Indro Dwi Saputro\n",
    "### POSTTEST 8\n"
   ]
  },
  {
   "cell_type": "code",
   "execution_count": 2,
   "metadata": {},
   "outputs": [],
   "source": [
    "import pandas as pd\n",
    "import matplotlib.pyplot as plt\n",
    "import tensorflow as tf\n",
    "from sklearn.preprocessing import OrdinalEncoder\n",
    "from sklearn.model_selection import train_test_split"
   ]
  },
  {
   "cell_type": "markdown",
   "metadata": {},
   "source": [
    "### Mengambil dataset dan menampilkan data menggunakan DataFrame"
   ]
  },
  {
   "cell_type": "code",
   "execution_count": 3,
   "metadata": {},
   "outputs": [
    {
     "name": "stdout",
     "output_type": "stream",
     "text": [
      "<class 'pandas.core.frame.DataFrame'>\n",
      "RangeIndex: 779 entries, 0 to 778\n",
      "Data columns (total 16 columns):\n",
      " #   Column       Non-Null Count  Dtype  \n",
      "---  ------       --------------  -----  \n",
      " 0   Unnamed: 0   779 non-null    int64  \n",
      " 1   survived     779 non-null    int64  \n",
      " 2   pclass       779 non-null    int64  \n",
      " 3   sex          779 non-null    object \n",
      " 4   age          779 non-null    float64\n",
      " 5   sibsp        779 non-null    int64  \n",
      " 6   parch        779 non-null    int64  \n",
      " 7   fare         779 non-null    float64\n",
      " 8   embarked     779 non-null    object \n",
      " 9   class        779 non-null    object \n",
      " 10  who          779 non-null    object \n",
      " 11  adult_male   779 non-null    bool   \n",
      " 12  deck         779 non-null    object \n",
      " 13  embark_town  779 non-null    object \n",
      " 14  alive        779 non-null    object \n",
      " 15  alone        779 non-null    bool   \n",
      "dtypes: bool(2), float64(2), int64(5), object(7)\n",
      "memory usage: 86.8+ KB\n"
     ]
    }
   ],
   "source": [
    "df = pd.read_csv('titanic-data.csv')\n",
    "df.info()"
   ]
  },
  {
   "cell_type": "markdown",
   "metadata": {},
   "source": [
    "### Mengubah data bertipe Objek menjadi data bertipe angka menggunakan encoder"
   ]
  },
  {
   "cell_type": "code",
   "execution_count": 9,
   "metadata": {},
   "outputs": [],
   "source": [
    "encoder = OrdinalEncoder()\n",
    "df['sex'] = encoder.fit_transform(df[['sex']])\n",
    "df['embarked'] = encoder.fit_transform(df[['embarked']])\n",
    "df['class'] = encoder.fit_transform(df[['class']])\n",
    "df['who'] = encoder.fit_transform(df[['who']])\n",
    "df['deck'] = encoder.fit_transform(df[['deck']])\n",
    "df['embark_town'] = encoder.fit_transform(df[['embark_town']])\n",
    "df['alive'] = encoder.fit_transform(df[['alive']])\n",
    "df['alone'] = encoder.fit_transform(df[['alone']])\n",
    "df['adult_male'] = encoder.fit_transform(df[['adult_male']])"
   ]
  },
  {
   "cell_type": "markdown",
   "metadata": {},
   "source": [
    "### Menampilkan Hasil Encoding"
   ]
  },
  {
   "cell_type": "code",
   "execution_count": 15,
   "metadata": {},
   "outputs": [
    {
     "name": "stdout",
     "output_type": "stream",
     "text": [
      "<class 'pandas.core.frame.DataFrame'>\n",
      "RangeIndex: 779 entries, 0 to 778\n",
      "Data columns (total 16 columns):\n",
      " #   Column       Non-Null Count  Dtype  \n",
      "---  ------       --------------  -----  \n",
      " 0   Unnamed: 0   779 non-null    int64  \n",
      " 1   survived     779 non-null    int64  \n",
      " 2   pclass       779 non-null    int64  \n",
      " 3   sex          779 non-null    float64\n",
      " 4   age          779 non-null    float64\n",
      " 5   sibsp        779 non-null    int64  \n",
      " 6   parch        779 non-null    int64  \n",
      " 7   fare         779 non-null    float64\n",
      " 8   embarked     779 non-null    float64\n",
      " 9   class        779 non-null    float64\n",
      " 10  who          779 non-null    float64\n",
      " 11  adult_male   779 non-null    float64\n",
      " 12  deck         779 non-null    float64\n",
      " 13  embark_town  779 non-null    float64\n",
      " 14  alive        779 non-null    float64\n",
      " 15  alone        779 non-null    float64\n",
      "dtypes: float64(11), int64(5)\n",
      "memory usage: 97.5 KB\n"
     ]
    }
   ],
   "source": [
    "df.info()"
   ]
  },
  {
   "cell_type": "markdown",
   "metadata": {},
   "source": [
    "Menentukan record dan label yang akan digunakan"
   ]
  },
  {
   "cell_type": "code",
   "execution_count": 13,
   "metadata": {},
   "outputs": [],
   "source": [
    "record = df[['survived', 'pclass', 'sex', 'age', 'sibsp', 'parch',\n",
    "       'fare', 'embarked', 'class', 'who', 'adult_male', 'deck', 'embark_town','alone']]\n",
    "label = df[['alive']]"
   ]
  },
  {
   "cell_type": "markdown",
   "metadata": {},
   "source": [
    "Bagi data train pada record menjadi data train dan data test. Di sini saya menggunakan proporsi 60:40 (60% Data train dan 40% Data test)"
   ]
  },
  {
   "cell_type": "code",
   "execution_count": 16,
   "metadata": {},
   "outputs": [],
   "source": [
    "xTrain, xTest, yTrain, yTest = train_test_split(record,label,test_size=.4)"
   ]
  },
  {
   "cell_type": "markdown",
   "metadata": {},
   "source": [
    "Merubah label menjadi matriks menggunakan fungsi utils di library keras"
   ]
  },
  {
   "cell_type": "code",
   "execution_count": null,
   "metadata": {},
   "outputs": [],
   "source": [
    "numClass = 2\n",
    "yTrain = tf.keras.utils.to_categorical(yTrain, numClass)\n",
    "yTest = tf.keras.utils.to_categorical(yTest, numClass))"
   ]
  }
 ],
 "metadata": {
  "kernelspec": {
   "display_name": "Python 3.10.7 64-bit",
   "language": "python",
   "name": "python3"
  },
  "language_info": {
   "codemirror_mode": {
    "name": "ipython",
    "version": 3
   },
   "file_extension": ".py",
   "mimetype": "text/x-python",
   "name": "python",
   "nbconvert_exporter": "python",
   "pygments_lexer": "ipython3",
   "version": "3.10.7"
  },
  "orig_nbformat": 4,
  "vscode": {
   "interpreter": {
    "hash": "6ab117dc72ce47c67ab66370869bf6990376954b483afc3fcd6da587bd0c56af"
   }
  }
 },
 "nbformat": 4,
 "nbformat_minor": 2
}
